{
 "cells": [
  {
   "cell_type": "code",
   "execution_count": 126,
   "id": "9439a0b3",
   "metadata": {},
   "outputs": [],
   "source": [
    "from qiskit import QuantumCircuit, Aer, transpile\n",
    "import numpy as np\n",
    "from numpy import random\n",
    "import matplotlib.pyplot as plt\n",
    "\n",
    "backend = Aer.get_backend('qasm_simulator')"
   ]
  },
  {
   "cell_type": "code",
   "execution_count": 127,
   "id": "119fa775",
   "metadata": {},
   "outputs": [],
   "source": [
    "def gen_key(num, a_states, a_basis, b_basis):\n",
    "    qc = QuantumCircuit(num)\n",
    "    \n",
    "    for i in range(num):\n",
    "        if a_states[i] == 1:\n",
    "            qc.x(i)\n",
    "        if a_basis[i] == 1:\n",
    "            qc.h(i)\n",
    "    \n",
    "    qc.barrier()\n",
    "    \n",
    "    for j in range(num):\n",
    "        if b_basis[j] == 1:\n",
    "            qc.h(i)\n",
    "            \n",
    "    qc.measure_all()\n",
    "    \n",
    "    job = backend.run(transpile(qc, backend))\n",
    "    counts = job.result().get_counts(qc)\n",
    "    \n",
    "    return counts.most_frequent()"
   ]
  },
  {
   "cell_type": "code",
   "execution_count": 128,
   "id": "83125189",
   "metadata": {},
   "outputs": [],
   "source": [
    "def bb84(message, num, eve=False):\n",
    "    a_states = np.random.randint(2, size=num)\n",
    "    a_basis = np.random.randint(2, size=num)\n",
    "    b_basis = np.random.randint(2, size=num)\n",
    "    \n",
    "    print(\"Alice States: \" + str(a_states))\n",
    "    print(\"Alice Basis: \" + str(a_basis))\n",
    "    print(\"Bob Basis: \" + str(b_basis))\n",
    "    \n",
    "    key = gen_key(num, a_states, a_basis, b_basis)\n",
    "    \n",
    "    if eve:\n",
    "        e_basis = np.random.randint(2, size=num)\n",
    "        e_states = gen_key(num, a_states, a_basis, e_basis)\n",
    "        \n",
    "        for i in range(num):\n",
    "            if(e_basis[i] == b_basis[i]):\n",
    "                b_basis[i] = 1 - b_basis[i]\n",
    "                a_states[i] = e_states[i]\n",
    "    \n",
    "    decrypt_key = ''\n",
    "    for i in range(num):\n",
    "        if a_basis[i] == b_basis[i]:\n",
    "            decrypt_key += str(key[i])\n",
    "    \n",
    "    encrypted = ''\n",
    "    for i in range(len(message)):\n",
    "        encrypted += chr(ord(message[i]) ^ int(key[i]))\n",
    "    print(encrypted)"
   ]
  },
  {
   "cell_type": "code",
   "execution_count": 129,
   "id": "0949de26",
   "metadata": {},
   "outputs": [
    {
     "name": "stdout",
     "output_type": "stream",
     "text": [
      "Alice States: [1 1 0 0 1 1 1 0 1 1 1]\n",
      "Alice Basis: [0 1 0 0 0 0 0 1 1 1 1]\n",
      "Bob Basis: [1 1 1 1 0 1 0 0 1 0 1]\n",
      "Idlln!uhesd\n"
     ]
    }
   ],
   "source": [
    "message = \"Hello there\"\n",
    "num = len(message)\n",
    "\n",
    "bb84(message, num)"
   ]
  },
  {
   "cell_type": "code",
   "execution_count": null,
   "id": "f5346ae2",
   "metadata": {},
   "outputs": [],
   "source": []
  }
 ],
 "metadata": {
  "kernelspec": {
   "display_name": "Python 3 (ipykernel)",
   "language": "python",
   "name": "python3"
  },
  "language_info": {
   "codemirror_mode": {
    "name": "ipython",
    "version": 3
   },
   "file_extension": ".py",
   "mimetype": "text/x-python",
   "name": "python",
   "nbconvert_exporter": "python",
   "pygments_lexer": "ipython3",
   "version": "3.11.5"
  }
 },
 "nbformat": 4,
 "nbformat_minor": 5
}
