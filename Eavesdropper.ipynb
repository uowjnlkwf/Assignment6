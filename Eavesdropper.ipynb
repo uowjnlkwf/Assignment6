{
 "cells": [
  {
   "cell_type": "code",
   "execution_count": 19,
   "id": "9e7b903f",
   "metadata": {},
   "outputs": [],
   "source": [
    "from qiskit import QuantumCircuit, Aer, transpile\n",
    "import numpy as np\n",
    "from numpy import random\n",
    "import matplotlib.pyplot as plt\n",
    "\n",
    "backend = Aer.get_backend('qasm_simulator')"
   ]
  },
  {
   "cell_type": "code",
   "execution_count": 20,
   "id": "4b70c3b5",
   "metadata": {},
   "outputs": [],
   "source": [
    "def create_bell_pair(qc, qubit, target):\n",
    "    qc.h(qubit)\n",
    "    qc.cx(qubit, target)\n",
    "\n",
    "def superdense_encode(qc, bits, qubit):\n",
    "    if bits == \"00\":\n",
    "        pass\n",
    "    elif bits == \"01\":\n",
    "        qc.x(qubit)\n",
    "    elif bits == \"10\":\n",
    "        qc.z(qubit)\n",
    "    elif bits == \"11\":\n",
    "        qc.x(qubit)\n",
    "        qc.z(qubit)\n",
    "        \n",
    "def superdense_decode(qc, qubit, target):\n",
    "    qc.cx(qubit, target)\n",
    "    qc.h(qubit)"
   ]
  },
  {
   "cell_type": "code",
   "execution_count": 21,
   "id": "b97a701e",
   "metadata": {},
   "outputs": [],
   "source": [
    "def superdense_demo(eve):\n",
    "    image = \"0000111100001111\"\n",
    "    # 4 x 4\n",
    "    \n",
    "    for i in range(0, 16, 2):\n",
    "        qc = QuantumCircuit(2,3)\n",
    "        \n",
    "        chunk = image[i:i+2]\n",
    "        \n",
    "        create_bell_pair(qc, 0, 1)\n",
    "        superdense_encode(qc, chunk, 0)\n",
    "        \n",
    "        if(eve):\n",
    "            qc.measure(1, 2)\n",
    "    \n",
    "        superdense_decode(qc, 0, 1)\n",
    "        qc.measure(1, 1)\n",
    "        \n",
    "        job = backend.run(transpile(qc, backend))\n",
    "        counts = job.result().get_counts(qc)\n",
    "    \n",
    "        print(\"Alice's Sent Message: \" + chunk)\n",
    "        print(\"Is Eve Eavesdropping?: \" + str(eve))\n",
    "        print(\"Bob's Received Counts: \" + str(counts))"
   ]
  },
  {
   "cell_type": "code",
   "execution_count": 22,
   "id": "6f861235",
   "metadata": {},
   "outputs": [
    {
     "name": "stdout",
     "output_type": "stream",
     "text": [
      "Alice's Sent Message: 00\n",
      "Is Eve Eavesdropping?: False\n",
      "Bob's Received Counts: {'000': 1024}\n",
      "Alice's Sent Message: 00\n",
      "Is Eve Eavesdropping?: False\n",
      "Bob's Received Counts: {'000': 1024}\n",
      "Alice's Sent Message: 11\n",
      "Is Eve Eavesdropping?: False\n",
      "Bob's Received Counts: {'010': 1024}\n",
      "Alice's Sent Message: 11\n",
      "Is Eve Eavesdropping?: False\n",
      "Bob's Received Counts: {'010': 1024}\n",
      "Alice's Sent Message: 00\n",
      "Is Eve Eavesdropping?: False\n",
      "Bob's Received Counts: {'000': 1024}\n",
      "Alice's Sent Message: 00\n",
      "Is Eve Eavesdropping?: False\n",
      "Bob's Received Counts: {'000': 1024}\n",
      "Alice's Sent Message: 11\n",
      "Is Eve Eavesdropping?: False\n",
      "Bob's Received Counts: {'010': 1024}\n",
      "Alice's Sent Message: 11\n",
      "Is Eve Eavesdropping?: False\n",
      "Bob's Received Counts: {'010': 1024}\n",
      "\n",
      "Alice's Sent Message: 00\n",
      "Is Eve Eavesdropping?: True\n",
      "Bob's Received Counts: {'100': 532, '000': 492}\n",
      "Alice's Sent Message: 00\n",
      "Is Eve Eavesdropping?: True\n",
      "Bob's Received Counts: {'100': 495, '000': 529}\n",
      "Alice's Sent Message: 11\n",
      "Is Eve Eavesdropping?: True\n",
      "Bob's Received Counts: {'110': 505, '010': 519}\n",
      "Alice's Sent Message: 11\n",
      "Is Eve Eavesdropping?: True\n",
      "Bob's Received Counts: {'010': 535, '110': 489}\n",
      "Alice's Sent Message: 00\n",
      "Is Eve Eavesdropping?: True\n",
      "Bob's Received Counts: {'000': 490, '100': 534}\n",
      "Alice's Sent Message: 00\n",
      "Is Eve Eavesdropping?: True\n",
      "Bob's Received Counts: {'100': 498, '000': 526}\n",
      "Alice's Sent Message: 11\n",
      "Is Eve Eavesdropping?: True\n",
      "Bob's Received Counts: {'010': 523, '110': 501}\n",
      "Alice's Sent Message: 11\n",
      "Is Eve Eavesdropping?: True\n",
      "Bob's Received Counts: {'110': 534, '010': 490}\n"
     ]
    }
   ],
   "source": [
    "superdense_demo(False)\n",
    "print()\n",
    "superdense_demo(True)"
   ]
  },
  {
   "cell_type": "code",
   "execution_count": null,
   "id": "390c560a",
   "metadata": {},
   "outputs": [],
   "source": []
  }
 ],
 "metadata": {
  "kernelspec": {
   "display_name": "Python 3 (ipykernel)",
   "language": "python",
   "name": "python3"
  },
  "language_info": {
   "codemirror_mode": {
    "name": "ipython",
    "version": 3
   },
   "file_extension": ".py",
   "mimetype": "text/x-python",
   "name": "python",
   "nbconvert_exporter": "python",
   "pygments_lexer": "ipython3",
   "version": "3.11.5"
  }
 },
 "nbformat": 4,
 "nbformat_minor": 5
}
